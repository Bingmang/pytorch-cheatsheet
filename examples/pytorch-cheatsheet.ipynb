{
 "cells": [
  {
   "cell_type": "code",
   "execution_count": 1,
   "metadata": {},
   "outputs": [],
   "source": [
    "import torch\n",
    "import numpy as np"
   ]
  },
  {
   "cell_type": "code",
   "execution_count": 2,
   "metadata": {},
   "outputs": [],
   "source": [
    "inputs = [[0., 1.2, 3.2, 4.5], [1., 2.1, 3., 4.2]]"
   ]
  },
  {
   "cell_type": "code",
   "execution_count": 3,
   "metadata": {},
   "outputs": [],
   "source": [
    "image_size = 6\n",
    "\n",
    "inputs_img = np.pad(inputs, ((0, 0), (0, image_size ** 2 - len(inputs[0]))), 'constant').reshape(-1, 1, image_size, image_size)"
   ]
  },
  {
   "cell_type": "code",
   "execution_count": 4,
   "metadata": {},
   "outputs": [
    {
     "data": {
      "text/plain": [
       "array([[[[0. , 1.2, 3.2, 4.5, 0. , 0. ],\n",
       "         [0. , 0. , 0. , 0. , 0. , 0. ],\n",
       "         [0. , 0. , 0. , 0. , 0. , 0. ],\n",
       "         [0. , 0. , 0. , 0. , 0. , 0. ],\n",
       "         [0. , 0. , 0. , 0. , 0. , 0. ],\n",
       "         [0. , 0. , 0. , 0. , 0. , 0. ]]],\n",
       "\n",
       "\n",
       "       [[[1. , 2.1, 3. , 4.2, 0. , 0. ],\n",
       "         [0. , 0. , 0. , 0. , 0. , 0. ],\n",
       "         [0. , 0. , 0. , 0. , 0. , 0. ],\n",
       "         [0. , 0. , 0. , 0. , 0. , 0. ],\n",
       "         [0. , 0. , 0. , 0. , 0. , 0. ],\n",
       "         [0. , 0. , 0. , 0. , 0. , 0. ]]]])"
      ]
     },
     "execution_count": 4,
     "metadata": {},
     "output_type": "execute_result"
    }
   ],
   "source": [
    "inputs_img"
   ]
  },
  {
   "cell_type": "code",
   "execution_count": 5,
   "metadata": {},
   "outputs": [
    {
     "name": "stdout",
     "output_type": "stream",
     "text": [
      "2\n",
      "1\n",
      "6\n",
      "6\n"
     ]
    }
   ],
   "source": [
    "print(len(inputs_img))           # 图片数量\n",
    "print(len(inputs_img[0]))        # 图片维数\n",
    "print(len(inputs_img[0][0]))     # 图片width\n",
    "print(len(inputs_img[0][0][0]))  # 图片height"
   ]
  }
 ],
 "metadata": {
  "kernelspec": {
   "display_name": "Python 3",
   "language": "python",
   "name": "python3"
  },
  "language_info": {
   "codemirror_mode": {
    "name": "ipython",
    "version": 3
   },
   "file_extension": ".py",
   "mimetype": "text/x-python",
   "name": "python",
   "nbconvert_exporter": "python",
   "pygments_lexer": "ipython3",
   "version": "3.6.6"
  }
 },
 "nbformat": 4,
 "nbformat_minor": 2
}
